{
 "cells": [
  {
   "cell_type": "code",
   "execution_count": null,
   "metadata": {},
   "outputs": [],
   "source": [
    "import requests\n",
    "from lxml import html\n",
    "from bs4 import BeautifulSoup\n",
    "import json\n",
    "import base64\n",
    "import urllib.parse\n",
    "\n",
    "import os\n",
    "from subprocess import call\n",
    "\n",
    "movie_page = requests.get('https://www.hoichoi.tv/categories')\n",
    "home_page = requests.get('https://www.hoichoi.tv/home')\n",
    "\n",
    "# get all the links\n",
    "movie_page_links_dump = html.fromstring(movie_page.content).xpath('//a/@href')\n",
    "home_page_links_dump = html.fromstring(home_page.content).xpath('//a/@href')\n",
    "\n",
    "# consolidate all the links and remove duplicates\n",
    "movie_links = list(set([pl for pl in movie_page_links_dump if pl[:6]=='/films'] + [pl for pl in home_page_links_dump if pl[:6]=='/films']))\n",
    "\n",
    "print(str(len(movie_links)) + ' movies found!')\n",
    "\n",
    "parent_url = 'https://www.hoichoi.tv'\n",
    "\n",
    "for movie in movie_links:\n",
    "\ts = requests.session()\n",
    "\tsingle_movie_url = parent_url + movie\n",
    "\tsingle_movie_page = s.get(single_movie_url)\n",
    "\n",
    "\tmovie_soup = BeautifulSoup(single_movie_page.content, features='lxml')\n",
    "\tdata = movie_soup.find_all(\"script\")[1].string\n",
    "\n",
    "\tdata = data[data.find('=') + 2:]\n",
    "\tdata = data[data.find(\"'\"):-4]\n",
    "\tbin_data = base64.b64decode(data)\n",
    "\traw_json = str(urllib.parse.unquote(str(bin_data)))[2:-1]\n",
    "\n",
    "\tmyJson = json.loads(raw_json)\n",
    "\tvideo_metadata = myJson['page']['data']['modules'][0]['contentData'][0]\n",
    "\t\n",
    "\tvideo_id = video_metadata['gist']['id']\n",
    "\t# get the maximum quality video\n",
    "\tvideo_url = video_metadata['streamingInfo']['videoAssets']['mpeg'][-1]['url']\n",
    "\n",
    "\tprint(movie)\n",
    "\t# print(video_url)\n",
    "\t\n",
    "\t!wget \"$video_url\""
   ]
  }
 ],
 "metadata": {
  "kernelspec": {
   "display_name": "Python 3",
   "language": "python",
   "name": "python3"
  },
  "language_info": {
   "codemirror_mode": {
    "name": "ipython",
    "version": 3
   },
   "file_extension": ".py",
   "mimetype": "text/x-python",
   "name": "python",
   "nbconvert_exporter": "python",
   "pygments_lexer": "ipython3",
   "version": "3.7.1"
  }
 },
 "nbformat": 4,
 "nbformat_minor": 2
}
